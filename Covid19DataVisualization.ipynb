{
 "cells": [
  {
   "cell_type": "code",
   "execution_count": 1,
   "id": "8332c666",
   "metadata": {},
   "outputs": [],
   "source": [
    "import pandas as pd\n",
    "import seaborn as sb\n",
    "import numpy as np\n",
    "import matplotlib.pyplot as plt\n",
    "import matplotlib.ticker as ticker\n",
    "from sklearn.svm import SVR\n",
    "from sklearn.model_selection import train_test_split, GridSearchCV\n",
    "from sklearn.preprocessing import StandardScaler\n",
    "from sklearn.metrics import r2_score, mean_squared_error\n",
    "import matplotlib.pyplot as plt\n",
    "from sklearn.cluster import KMeans"
   ]
  },
  {
   "cell_type": "markdown",
   "id": "2352dd54",
   "metadata": {},
   "source": [
    "Load in my custom covid dataset"
   ]
  },
  {
   "cell_type": "code",
   "execution_count": 2,
   "id": "44f08ab7",
   "metadata": {},
   "outputs": [],
   "source": [
    "covidData = pd.read_csv(\"Covid 19 Infection rate .xlsx - Sheet1.csv\")"
   ]
  },
  {
   "cell_type": "code",
   "execution_count": 3,
   "id": "691e2b90",
   "metadata": {},
   "outputs": [],
   "source": [
    "covidData.drop(covidData.columns[covidData.columns.str.contains(\n",
    "    'unnamed', case=False)], axis=1, inplace=True)\n",
    "covidData = covidData.dropna(subset=[\"DE infections\"])"
   ]
  },
  {
   "cell_type": "code",
   "execution_count": 4,
   "id": "1f08469c",
   "metadata": {},
   "outputs": [
    {
     "data": {
      "text/html": [
       "<div>\n",
       "<style scoped>\n",
       "    .dataframe tbody tr th:only-of-type {\n",
       "        vertical-align: middle;\n",
       "    }\n",
       "\n",
       "    .dataframe tbody tr th {\n",
       "        vertical-align: top;\n",
       "    }\n",
       "\n",
       "    .dataframe thead th {\n",
       "        text-align: right;\n",
       "    }\n",
       "</style>\n",
       "<table border=\"1\" class=\"dataframe\">\n",
       "  <thead>\n",
       "    <tr style=\"text-align: right;\">\n",
       "      <th></th>\n",
       "      <th>Delaware Day #</th>\n",
       "      <th>DE infections</th>\n",
       "      <th>DE increase in infections</th>\n",
       "      <th>DE Percent Increase</th>\n",
       "      <th>MD Day #</th>\n",
       "      <th>MD infections</th>\n",
       "      <th>MD increase in infections</th>\n",
       "      <th>MD percent increase infections</th>\n",
       "      <th>Califronia Day #</th>\n",
       "      <th>CA infections</th>\n",
       "      <th>CA increase in infections</th>\n",
       "      <th>CA percent increase</th>\n",
       "      <th>Texas Day #</th>\n",
       "      <th>Infections</th>\n",
       "      <th>Increase in infections</th>\n",
       "      <th>Percent Increase</th>\n",
       "    </tr>\n",
       "  </thead>\n",
       "  <tbody>\n",
       "    <tr>\n",
       "      <th>0</th>\n",
       "      <td>1.0</td>\n",
       "      <td>1.0</td>\n",
       "      <td>0.0</td>\n",
       "      <td>0.0</td>\n",
       "      <td>1</td>\n",
       "      <td>3</td>\n",
       "      <td>0</td>\n",
       "      <td>0</td>\n",
       "      <td>1.0</td>\n",
       "      <td>53.0</td>\n",
       "      <td>53.0</td>\n",
       "      <td>0.0</td>\n",
       "      <td>1.0</td>\n",
       "      <td>5.0</td>\n",
       "      <td>5</td>\n",
       "      <td>0.0</td>\n",
       "    </tr>\n",
       "    <tr>\n",
       "      <th>1</th>\n",
       "      <td>2.0</td>\n",
       "      <td>4.0</td>\n",
       "      <td>3.0</td>\n",
       "      <td>300.0</td>\n",
       "      <td>2</td>\n",
       "      <td>3</td>\n",
       "      <td>0</td>\n",
       "      <td>0</td>\n",
       "      <td>2.0</td>\n",
       "      <td>60.0</td>\n",
       "      <td>7.0</td>\n",
       "      <td>13.0</td>\n",
       "      <td>2.0</td>\n",
       "      <td>5.0</td>\n",
       "      <td>#REF!</td>\n",
       "      <td>0.0</td>\n",
       "    </tr>\n",
       "    <tr>\n",
       "      <th>2</th>\n",
       "      <td>3.0</td>\n",
       "      <td>4.0</td>\n",
       "      <td>0.0</td>\n",
       "      <td>0.0</td>\n",
       "      <td>3</td>\n",
       "      <td>3</td>\n",
       "      <td>0</td>\n",
       "      <td>0</td>\n",
       "      <td>3.0</td>\n",
       "      <td>69.0</td>\n",
       "      <td>9.0</td>\n",
       "      <td>15.0</td>\n",
       "      <td>3.0</td>\n",
       "      <td>5.0</td>\n",
       "      <td>#REF!</td>\n",
       "      <td>0.0</td>\n",
       "    </tr>\n",
       "    <tr>\n",
       "      <th>3</th>\n",
       "      <td>4.0</td>\n",
       "      <td>6.0</td>\n",
       "      <td>2.0</td>\n",
       "      <td>50.0</td>\n",
       "      <td>4</td>\n",
       "      <td>5</td>\n",
       "      <td>2</td>\n",
       "      <td>67</td>\n",
       "      <td>4.0</td>\n",
       "      <td>88.0</td>\n",
       "      <td>19.0</td>\n",
       "      <td>28.0</td>\n",
       "      <td>4.0</td>\n",
       "      <td>12.0</td>\n",
       "      <td>7</td>\n",
       "      <td>140.0</td>\n",
       "    </tr>\n",
       "    <tr>\n",
       "      <th>4</th>\n",
       "      <td>5.0</td>\n",
       "      <td>7.0</td>\n",
       "      <td>1.0</td>\n",
       "      <td>17.0</td>\n",
       "      <td>5</td>\n",
       "      <td>5</td>\n",
       "      <td>0</td>\n",
       "      <td>0</td>\n",
       "      <td>5.0</td>\n",
       "      <td>114.0</td>\n",
       "      <td>26.0</td>\n",
       "      <td>30.0</td>\n",
       "      <td>5.0</td>\n",
       "      <td>15.0</td>\n",
       "      <td>3</td>\n",
       "      <td>25.0</td>\n",
       "    </tr>\n",
       "    <tr>\n",
       "      <th>...</th>\n",
       "      <td>...</td>\n",
       "      <td>...</td>\n",
       "      <td>...</td>\n",
       "      <td>...</td>\n",
       "      <td>...</td>\n",
       "      <td>...</td>\n",
       "      <td>...</td>\n",
       "      <td>...</td>\n",
       "      <td>...</td>\n",
       "      <td>...</td>\n",
       "      <td>...</td>\n",
       "      <td>...</td>\n",
       "      <td>...</td>\n",
       "      <td>...</td>\n",
       "      <td>...</td>\n",
       "      <td>...</td>\n",
       "    </tr>\n",
       "    <tr>\n",
       "      <th>128</th>\n",
       "      <td>129.0</td>\n",
       "      <td>13624.0</td>\n",
       "      <td>195.0</td>\n",
       "      <td>1.0</td>\n",
       "      <td>124</td>\n",
       "      <td>72467</td>\n",
       "      <td>557</td>\n",
       "      <td>1</td>\n",
       "      <td>129.0</td>\n",
       "      <td>347634.0</td>\n",
       "      <td>11126.0</td>\n",
       "      <td>3.0</td>\n",
       "      <td>129.0</td>\n",
       "      <td>264313.0</td>\n",
       "      <td>5655</td>\n",
       "      <td>2.0</td>\n",
       "    </tr>\n",
       "    <tr>\n",
       "      <th>129</th>\n",
       "      <td>130.0</td>\n",
       "      <td>13746.0</td>\n",
       "      <td>122.0</td>\n",
       "      <td>1.0</td>\n",
       "      <td>125</td>\n",
       "      <td>73109</td>\n",
       "      <td>642</td>\n",
       "      <td>1</td>\n",
       "      <td>130.0</td>\n",
       "      <td>356178.0</td>\n",
       "      <td>8544.0</td>\n",
       "      <td>2.0</td>\n",
       "      <td>130.0</td>\n",
       "      <td>275058.0</td>\n",
       "      <td>10745</td>\n",
       "      <td>4.0</td>\n",
       "    </tr>\n",
       "    <tr>\n",
       "      <th>130</th>\n",
       "      <td>131.0</td>\n",
       "      <td>13792.0</td>\n",
       "      <td>46.0</td>\n",
       "      <td>0.0</td>\n",
       "      <td>126</td>\n",
       "      <td>73527</td>\n",
       "      <td>418</td>\n",
       "      <td>1</td>\n",
       "      <td>131.0</td>\n",
       "      <td>366164.0</td>\n",
       "      <td>9986.0</td>\n",
       "      <td>3.0</td>\n",
       "      <td>131.0</td>\n",
       "      <td>282365.0</td>\n",
       "      <td>7307</td>\n",
       "      <td>3.0</td>\n",
       "    </tr>\n",
       "    <tr>\n",
       "      <th>131</th>\n",
       "      <td>132.0</td>\n",
       "      <td>13924.0</td>\n",
       "      <td>132.0</td>\n",
       "      <td>1.0</td>\n",
       "      <td>127</td>\n",
       "      <td>74260</td>\n",
       "      <td>733</td>\n",
       "      <td>1</td>\n",
       "      <td>132.0</td>\n",
       "      <td>375363.0</td>\n",
       "      <td>9199.0</td>\n",
       "      <td>3.0</td>\n",
       "      <td>132.0</td>\n",
       "      <td>292656.0</td>\n",
       "      <td>10291</td>\n",
       "      <td>4.0</td>\n",
       "    </tr>\n",
       "    <tr>\n",
       "      <th>132</th>\n",
       "      <td>133.0</td>\n",
       "      <td>14202.0</td>\n",
       "      <td>278.0</td>\n",
       "      <td>2.0</td>\n",
       "      <td>128</td>\n",
       "      <td>75016</td>\n",
       "      <td>756</td>\n",
       "      <td>1</td>\n",
       "      <td>133.0</td>\n",
       "      <td>384692.0</td>\n",
       "      <td>9329.0</td>\n",
       "      <td>2.0</td>\n",
       "      <td>133.0</td>\n",
       "      <td>307572.0</td>\n",
       "      <td>14916</td>\n",
       "      <td>5.0</td>\n",
       "    </tr>\n",
       "  </tbody>\n",
       "</table>\n",
       "<p>133 rows × 16 columns</p>\n",
       "</div>"
      ],
      "text/plain": [
       "     Delaware Day #  DE infections  DE increase in infections   \\\n",
       "0               1.0            1.0                         0.0   \n",
       "1               2.0            4.0                         3.0   \n",
       "2               3.0            4.0                         0.0   \n",
       "3               4.0            6.0                         2.0   \n",
       "4               5.0            7.0                         1.0   \n",
       "..              ...            ...                         ...   \n",
       "128           129.0        13624.0                       195.0   \n",
       "129           130.0        13746.0                       122.0   \n",
       "130           131.0        13792.0                        46.0   \n",
       "131           132.0        13924.0                       132.0   \n",
       "132           133.0        14202.0                       278.0   \n",
       "\n",
       "     DE Percent Increase  MD Day # MD infections  MD increase in infections  \\\n",
       "0                    0.0         1             3                          0   \n",
       "1                  300.0         2             3                          0   \n",
       "2                    0.0         3             3                          0   \n",
       "3                   50.0         4             5                          2   \n",
       "4                   17.0         5             5                          0   \n",
       "..                   ...       ...           ...                        ...   \n",
       "128                  1.0       124         72467                        557   \n",
       "129                  1.0       125         73109                        642   \n",
       "130                  0.0       126         73527                        418   \n",
       "131                  1.0       127         74260                        733   \n",
       "132                  2.0       128         75016                        756   \n",
       "\n",
       "     MD percent increase infections  Califronia Day #  CA infections  \\\n",
       "0                                 0               1.0           53.0   \n",
       "1                                 0               2.0           60.0   \n",
       "2                                 0               3.0           69.0   \n",
       "3                                67               4.0           88.0   \n",
       "4                                 0               5.0          114.0   \n",
       "..                              ...               ...            ...   \n",
       "128                               1             129.0       347634.0   \n",
       "129                               1             130.0       356178.0   \n",
       "130                               1             131.0       366164.0   \n",
       "131                               1             132.0       375363.0   \n",
       "132                               1             133.0       384692.0   \n",
       "\n",
       "     CA increase in infections  CA percent increase  Texas Day #  Infections  \\\n",
       "0                         53.0                  0.0          1.0         5.0   \n",
       "1                          7.0                 13.0          2.0         5.0   \n",
       "2                          9.0                 15.0          3.0         5.0   \n",
       "3                         19.0                 28.0          4.0        12.0   \n",
       "4                         26.0                 30.0          5.0        15.0   \n",
       "..                         ...                  ...          ...         ...   \n",
       "128                    11126.0                  3.0        129.0    264313.0   \n",
       "129                     8544.0                  2.0        130.0    275058.0   \n",
       "130                     9986.0                  3.0        131.0    282365.0   \n",
       "131                     9199.0                  3.0        132.0    292656.0   \n",
       "132                     9329.0                  2.0        133.0    307572.0   \n",
       "\n",
       "    Increase in infections  Percent Increase  \n",
       "0                        5               0.0  \n",
       "1                    #REF!               0.0  \n",
       "2                    #REF!               0.0  \n",
       "3                        7             140.0  \n",
       "4                        3              25.0  \n",
       "..                     ...               ...  \n",
       "128                   5655               2.0  \n",
       "129                  10745               4.0  \n",
       "130                   7307               3.0  \n",
       "131                  10291               4.0  \n",
       "132                  14916               5.0  \n",
       "\n",
       "[133 rows x 16 columns]"
      ]
     },
     "execution_count": 4,
     "metadata": {},
     "output_type": "execute_result"
    }
   ],
   "source": [
    "covidData"
   ]
  },
  {
   "cell_type": "code",
   "execution_count": 5,
   "id": "8ecb1d4a",
   "metadata": {},
   "outputs": [
    {
     "name": "stdout",
     "output_type": "stream",
     "text": [
      "Mean of Covid 19 infections through Delaware during the first months of covid is 6743.0 infections\n"
     ]
    }
   ],
   "source": [
    "covidDEMean = covidData[\"DE infections\"].mean().round(0)\n",
    "print(f\"Mean of Covid 19 infections through Delaware during the first months of covid is {covidDEMean} infections\")"
   ]
  },
  {
   "cell_type": "code",
   "execution_count": 6,
   "id": "1d13bc96",
   "metadata": {},
   "outputs": [
    {
     "name": "stdout",
     "output_type": "stream",
     "text": [
      "Median of Covid 19 infections through Delaware during the first months of covid is 7869.0\n"
     ]
    }
   ],
   "source": [
    "covidDEMedian = covidData[\"DE infections\"].median().round(0)\n",
    "print(f\"Median of Covid 19 infections through Delaware during the first months of covid is {covidDEMedian}\")"
   ]
  },
  {
   "cell_type": "code",
   "execution_count": 7,
   "id": "180152c4",
   "metadata": {},
   "outputs": [],
   "source": [
    "sb.set_theme(style=\"darkgrid\")"
   ]
  },
  {
   "cell_type": "code",
   "execution_count": 8,
   "id": "dc11f85a",
   "metadata": {},
   "outputs": [
    {
     "data": {
      "text/plain": [
       "<AxesSubplot: xlabel='Delaware Day #', ylabel='DE infections'>"
      ]
     },
     "execution_count": 8,
     "metadata": {},
     "output_type": "execute_result"
    },
    {
     "data": {
      "image/png": "[encoded data removed]",
      "text/plain": [
       "<Figure size 640x480 with 1 Axes>"
      ]
     },
     "metadata": {},
     "output_type": "display_data"
    }
   ],
   "source": [
    "sb.lineplot(x=covidData[\"Delaware Day #\"], y=covidData[\"DE infections\"], data=covidData)"
   ]
  },
  {
   "cell_type": "markdown",
   "id": "64bb4bb8",
   "metadata": {},
   "source": [
    "Up here we have a good graph of the Covid cases throughout Delaware within the first four months the first case appeared in the state"
   ]
  },
  {
   "cell_type": "markdown",
   "id": "4f1e9bf3",
   "metadata": {},
   "source": [
    "Now we will measure how often the cases increased throughout the state"
   ]
  },
  {
   "cell_type": "code",
   "execution_count": 9,
   "id": "cb17be1a",
   "metadata": {
    "scrolled": true
   },
   "outputs": [
    {
     "data": {
      "text/plain": [
       "<AxesSubplot: xlabel='Delaware Day #', ylabel='DE increase in infections '>"
      ]
     },
     "execution_count": 9,
     "metadata": {},
     "output_type": "execute_result"
    },
    {
     "data": {
      "image/png": "[encoded data removed]",
      "text/plain": [
       "<Figure size 640x480 with 1 Axes>"
      ]
     },
     "metadata": {},
     "output_type": "display_data"
    }
   ],
   "source": [
    "sb.lineplot(x=covidData[\"Delaware Day #\"], y=covidData[\"DE increase in infections \"], data=covidData, linewidth=1.5)"
   ]
  },
  {
   "cell_type": "code",
   "execution_count": 10,
   "id": "ce476dae",
   "metadata": {
    "scrolled": true
   },
   "outputs": [
    {
     "data": {
      "text/plain": [
       "<AxesSubplot: xlabel='Delaware Day #', ylabel='DE Percent Increase'>"
      ]
     },
     "execution_count": 10,
     "metadata": {},
     "output_type": "execute_result"
    },
    {
     "data": {
      "image/png": "[encoded data removed]",
      "text/plain": [
       "<Figure size 640x480 with 1 Axes>"
      ]
     },
     "metadata": {},
     "output_type": "display_data"
    }
   ],
   "source": [
    "sb.lineplot(x=covidData[\"Delaware Day #\"], y=covidData[\"DE Percent Increase\"], data=covidData, linewidth=1.5)"
   ]
  },
  {
   "cell_type": "markdown",
   "id": "9ef74098",
   "metadata": {},
   "source": [
    "Now we will train a regression model given the data within Delaware"
   ]
  },
  {
   "cell_type": "code",
   "execution_count": 11,
   "id": "e9ee7755",
   "metadata": {},
   "outputs": [],
   "source": [
    "X = covidData.drop(columns=[\"Delaware Day #\", \"DE increase in infections \", \"DE Percent Increase\", \"MD Day #\",\"MD infections\", \"MD increase in infections\",\"MD percent increase infections\", \"Califronia Day #\", \"CA infections\", \"CA increase in infections\",\"CA percent increase\",\"Texas Day #\",\"Infections\", \"Increase in infections\",\"Percent Increase\"])\n",
    "y = covidData[\"DE infections\"]"
   ]
  },
  {
   "cell_type": "code",
   "execution_count": 12,
   "id": "5af7037e",
   "metadata": {},
   "outputs": [
    {
     "data": {
      "text/html": [
       "<div>\n",
       "<style scoped>\n",
       "    .dataframe tbody tr th:only-of-type {\n",
       "        vertical-align: middle;\n",
       "    }\n",
       "\n",
       "    .dataframe tbody tr th {\n",
       "        vertical-align: top;\n",
       "    }\n",
       "\n",
       "    .dataframe thead th {\n",
       "        text-align: right;\n",
       "    }\n",
       "</style>\n",
       "<table border=\"1\" class=\"dataframe\">\n",
       "  <thead>\n",
       "    <tr style=\"text-align: right;\">\n",
       "      <th></th>\n",
       "      <th>DE infections</th>\n",
       "    </tr>\n",
       "  </thead>\n",
       "  <tbody>\n",
       "    <tr>\n",
       "      <th>0</th>\n",
       "      <td>1.0</td>\n",
       "    </tr>\n",
       "    <tr>\n",
       "      <th>1</th>\n",
       "      <td>4.0</td>\n",
       "    </tr>\n",
       "    <tr>\n",
       "      <th>2</th>\n",
       "      <td>4.0</td>\n",
       "    </tr>\n",
       "    <tr>\n",
       "      <th>3</th>\n",
       "      <td>6.0</td>\n",
       "    </tr>\n",
       "    <tr>\n",
       "      <th>4</th>\n",
       "      <td>7.0</td>\n",
       "    </tr>\n",
       "    <tr>\n",
       "      <th>...</th>\n",
       "      <td>...</td>\n",
       "    </tr>\n",
       "    <tr>\n",
       "      <th>128</th>\n",
       "      <td>13624.0</td>\n",
       "    </tr>\n",
       "    <tr>\n",
       "      <th>129</th>\n",
       "      <td>13746.0</td>\n",
       "    </tr>\n",
       "    <tr>\n",
       "      <th>130</th>\n",
       "      <td>13792.0</td>\n",
       "    </tr>\n",
       "    <tr>\n",
       "      <th>131</th>\n",
       "      <td>13924.0</td>\n",
       "    </tr>\n",
       "    <tr>\n",
       "      <th>132</th>\n",
       "      <td>14202.0</td>\n",
       "    </tr>\n",
       "  </tbody>\n",
       "</table>\n",
       "<p>133 rows × 1 columns</p>\n",
       "</div>"
      ],
      "text/plain": [
       "     DE infections\n",
       "0              1.0\n",
       "1              4.0\n",
       "2              4.0\n",
       "3              6.0\n",
       "4              7.0\n",
       "..             ...\n",
       "128        13624.0\n",
       "129        13746.0\n",
       "130        13792.0\n",
       "131        13924.0\n",
       "132        14202.0\n",
       "\n",
       "[133 rows x 1 columns]"
      ]
     },
     "execution_count": 12,
     "metadata": {},
     "output_type": "execute_result"
    }
   ],
   "source": [
    "X"
   ]
  },
  {
   "cell_type": "code",
   "execution_count": 13,
   "id": "e1ab0c64",
   "metadata": {},
   "outputs": [],
   "source": [
    "X_train, X_test, y_train, y_test = train_test_split(X, y, test_size=0.2, random_state=20)"
   ]
  },
  {
   "cell_type": "code",
   "execution_count": 14,
   "id": "2dee8cd6",
   "metadata": {},
   "outputs": [],
   "source": [
    "svrScalar = StandardScaler()"
   ]
  },
  {
   "cell_type": "code",
   "execution_count": 15,
   "id": "be63d82f",
   "metadata": {},
   "outputs": [
    {
     "data": {
      "text/html": [
       "<div>\n",
       "<style scoped>\n",
       "    .dataframe tbody tr th:only-of-type {\n",
       "        vertical-align: middle;\n",
       "    }\n",
       "\n",
       "    .dataframe tbody tr th {\n",
       "        vertical-align: top;\n",
       "    }\n",
       "\n",
       "    .dataframe thead th {\n",
       "        text-align: right;\n",
       "    }\n",
       "</style>\n",
       "<table border=\"1\" class=\"dataframe\">\n",
       "  <thead>\n",
       "    <tr style=\"text-align: right;\">\n",
       "      <th></th>\n",
       "      <th>DE infections</th>\n",
       "    </tr>\n",
       "  </thead>\n",
       "  <tbody>\n",
       "    <tr>\n",
       "      <th>39</th>\n",
       "      <td>2745.0</td>\n",
       "    </tr>\n",
       "    <tr>\n",
       "      <th>55</th>\n",
       "      <td>5778.0</td>\n",
       "    </tr>\n",
       "    <tr>\n",
       "      <th>112</th>\n",
       "      <td>11923.0</td>\n",
       "    </tr>\n",
       "    <tr>\n",
       "      <th>49</th>\n",
       "      <td>4734.0</td>\n",
       "    </tr>\n",
       "    <tr>\n",
       "      <th>89</th>\n",
       "      <td>10056.0</td>\n",
       "    </tr>\n",
       "    <tr>\n",
       "      <th>...</th>\n",
       "      <td>...</td>\n",
       "    </tr>\n",
       "    <tr>\n",
       "      <th>71</th>\n",
       "      <td>8690.0</td>\n",
       "    </tr>\n",
       "    <tr>\n",
       "      <th>22</th>\n",
       "      <td>393.0</td>\n",
       "    </tr>\n",
       "    <tr>\n",
       "      <th>75</th>\n",
       "      <td>9096.0</td>\n",
       "    </tr>\n",
       "    <tr>\n",
       "      <th>15</th>\n",
       "      <td>143.0</td>\n",
       "    </tr>\n",
       "    <tr>\n",
       "      <th>99</th>\n",
       "      <td>10681.0</td>\n",
       "    </tr>\n",
       "  </tbody>\n",
       "</table>\n",
       "<p>106 rows × 1 columns</p>\n",
       "</div>"
      ],
      "text/plain": [
       "     DE infections\n",
       "39          2745.0\n",
       "55          5778.0\n",
       "112        11923.0\n",
       "49          4734.0\n",
       "89         10056.0\n",
       "..             ...\n",
       "71          8690.0\n",
       "22           393.0\n",
       "75          9096.0\n",
       "15           143.0\n",
       "99         10681.0\n",
       "\n",
       "[106 rows x 1 columns]"
      ]
     },
     "execution_count": 15,
     "metadata": {},
     "output_type": "execute_result"
    }
   ],
   "source": [
    "X_train"
   ]
  },
  {
   "cell_type": "code",
   "execution_count": 16,
   "id": "a70cd93f",
   "metadata": {},
   "outputs": [],
   "source": [
    "X_train_scaled = svrScalar.fit_transform(X_train)\n",
    "X_test_scaled = svrScalar.transform(X_test)\n",
    "param_grid = {'C': [0.1, 1, 10, 100], 'gamma': ['scale', 'auto']}"
   ]
  },
  {
   "cell_type": "code",
   "execution_count": 17,
   "id": "73575bef",
   "metadata": {},
   "outputs": [
    {
     "data": {
      "text/html": [
       "<style>#sk-container-id-1 {color: black;background-color: white;}#sk-container-id-1 pre{padding: 0;}#sk-container-id-1 div.sk-toggleable {background-color: white;}#sk-container-id-1 label.sk-toggleable__label {cursor: pointer;display: block;width: 100%;margin-bottom: 0;padding: 0.3em;box-sizing: border-box;text-align: center;}#sk-container-id-1 label.sk-toggleable__label-arrow:before {content: \"▸\";float: left;margin-right: 0.25em;color: #696969;}#sk-container-id-1 label.sk-toggleable__label-arrow:hover:before {color: black;}#sk-container-id-1 div.sk-estimator:hover label.sk-toggleable__label-arrow:before {color: black;}#sk-container-id-1 div.sk-toggleable__content {max-height: 0;max-width: 0;overflow: hidden;text-align: left;background-color: #f0f8ff;}#sk-container-id-1 div.sk-toggleable__content pre {margin: 0.2em;color: black;border-radius: 0.25em;background-color: #f0f8ff;}#sk-container-id-1 input.sk-toggleable__control:checked~div.sk-toggleable__content {max-height: 200px;max-width: 100%;overflow: auto;}#sk-container-id-1 input.sk-toggleable__control:checked~label.sk-toggleable__label-arrow:before {content: \"▾\";}#sk-container-id-1 div.sk-estimator input.sk-toggleable__control:checked~label.sk-toggleable__label {background-color: #d4ebff;}#sk-container-id-1 div.sk-label input.sk-toggleable__control:checked~label.sk-toggleable__label {background-color: #d4ebff;}#sk-container-id-1 input.sk-hidden--visually {border: 0;clip: rect(1px 1px 1px 1px);clip: rect(1px, 1px, 1px, 1px);height: 1px;margin: -1px;overflow: hidden;padding: 0;position: absolute;width: 1px;}#sk-container-id-1 div.sk-estimator {font-family: monospace;background-color: #f0f8ff;border: 1px dotted black;border-radius: 0.25em;box-sizing: border-box;margin-bottom: 0.5em;}#sk-container-id-1 div.sk-estimator:hover {background-color: #d4ebff;}#sk-container-id-1 div.sk-parallel-item::after {content: \"\";width: 100%;border-bottom: 1px solid gray;flex-grow: 1;}#sk-container-id-1 div.sk-label:hover label.sk-toggleable__label {background-color: #d4ebff;}#sk-container-id-1 div.sk-serial::before {content: \"\";position: absolute;border-left: 1px solid gray;box-sizing: border-box;top: 0;bottom: 0;left: 50%;z-index: 0;}#sk-container-id-1 div.sk-serial {display: flex;flex-direction: column;align-items: center;background-color: white;padding-right: 0.2em;padding-left: 0.2em;position: relative;}#sk-container-id-1 div.sk-item {position: relative;z-index: 1;}#sk-container-id-1 div.sk-parallel {display: flex;align-items: stretch;justify-content: center;background-color: white;position: relative;}#sk-container-id-1 div.sk-item::before, #sk-container-id-1 div.sk-parallel-item::before {content: \"\";position: absolute;border-left: 1px solid gray;box-sizing: border-box;top: 0;bottom: 0;left: 50%;z-index: -1;}#sk-container-id-1 div.sk-parallel-item {display: flex;flex-direction: column;z-index: 1;position: relative;background-color: white;}#sk-container-id-1 div.sk-parallel-item:first-child::after {align-self: flex-end;width: 50%;}#sk-container-id-1 div.sk-parallel-item:last-child::after {align-self: flex-start;width: 50%;}#sk-container-id-1 div.sk-parallel-item:only-child::after {width: 0;}#sk-container-id-1 div.sk-dashed-wrapped {border: 1px dashed gray;margin: 0 0.4em 0.5em 0.4em;box-sizing: border-box;padding-bottom: 0.4em;background-color: white;}#sk-container-id-1 div.sk-label label {font-family: monospace;font-weight: bold;display: inline-block;line-height: 1.2em;}#sk-container-id-1 div.sk-label-container {text-align: center;}#sk-container-id-1 div.sk-container {/* jupyter's `normalize.less` sets `[hidden] { display: none; }` but bootstrap.min.css set `[hidden] { display: none !important; }` so we also need the `!important` here to be able to override the default hidden behavior on the sphinx rendered scikit-learn.org. See: https://github.com/scikit-learn/scikit-learn/issues/21755 */display: inline-block !important;position: relative;}#sk-container-id-1 div.sk-text-repr-fallback {display: none;}</style><div id=\"sk-container-id-1\" class=\"sk-top-container\"><div class=\"sk-text-repr-fallback\"><pre>GridSearchCV(cv=5, estimator=SVR(),\n",
       "             param_grid={&#x27;C&#x27;: [0.1, 1, 10, 100], &#x27;gamma&#x27;: [&#x27;scale&#x27;, &#x27;auto&#x27;]},\n",
       "             scoring=&#x27;r2&#x27;)</pre><b>In a Jupyter environment, please rerun this cell to show the HTML representation or trust the notebook. <br />On GitHub, the HTML representation is unable to render, please try loading this page with nbviewer.org.</b></div><div class=\"sk-container\" hidden><div class=\"sk-item sk-dashed-wrapped\"><div class=\"sk-label-container\"><div class=\"sk-label sk-toggleable\"><input class=\"sk-toggleable__control sk-hidden--visually\" id=\"sk-estimator-id-1\" type=\"checkbox\" ><label for=\"sk-estimator-id-1\" class=\"sk-toggleable__label sk-toggleable__label-arrow\">GridSearchCV</label><div class=\"sk-toggleable__content\"><pre>GridSearchCV(cv=5, estimator=SVR(),\n",
       "             param_grid={&#x27;C&#x27;: [0.1, 1, 10, 100], &#x27;gamma&#x27;: [&#x27;scale&#x27;, &#x27;auto&#x27;]},\n",
       "             scoring=&#x27;r2&#x27;)</pre></div></div></div><div class=\"sk-parallel\"><div class=\"sk-parallel-item\"><div class=\"sk-item\"><div class=\"sk-label-container\"><div class=\"sk-label sk-toggleable\"><input class=\"sk-toggleable__control sk-hidden--visually\" id=\"sk-estimator-id-2\" type=\"checkbox\" ><label for=\"sk-estimator-id-2\" class=\"sk-toggleable__label sk-toggleable__label-arrow\">estimator: SVR</label><div class=\"sk-toggleable__content\"><pre>SVR()</pre></div></div></div><div class=\"sk-serial\"><div class=\"sk-item\"><div class=\"sk-estimator sk-toggleable\"><input class=\"sk-toggleable__control sk-hidden--visually\" id=\"sk-estimator-id-3\" type=\"checkbox\" ><label for=\"sk-estimator-id-3\" class=\"sk-toggleable__label sk-toggleable__label-arrow\">SVR</label><div class=\"sk-toggleable__content\"><pre>SVR()</pre></div></div></div></div></div></div></div></div></div></div>"
      ],
      "text/plain": [
       "GridSearchCV(cv=5, estimator=SVR(),\n",
       "             param_grid={'C': [0.1, 1, 10, 100], 'gamma': ['scale', 'auto']},\n",
       "             scoring='r2')"
      ]
     },
     "execution_count": 17,
     "metadata": {},
     "output_type": "execute_result"
    }
   ],
   "source": [
    "svr = SVR(kernel='rbf')\n",
    "grid_search = GridSearchCV(svr, param_grid, cv=5, scoring='r2')\n",
    "grid_search.fit(X_train_scaled, y_train)"
   ]
  },
  {
   "cell_type": "code",
   "execution_count": 18,
   "id": "8519fd1d",
   "metadata": {},
   "outputs": [],
   "source": [
    "best_svr = grid_search.best_estimator_\n",
    "best_svr.fit(X_train_scaled, y_train)\n",
    "y_pred = best_svr.predict(X_test_scaled)"
   ]
  },
  {
   "cell_type": "code",
   "execution_count": 19,
   "id": "5118e27b",
   "metadata": {
    "scrolled": true
   },
   "outputs": [
    {
     "data": {
      "text/plain": [
       "array([ 8840.13444803, 10389.87202462,  7914.64040938,  9646.19654783,\n",
       "        3316.84057926,  4767.99018959,  3315.96046063,  3751.30460754,\n",
       "        3301.04893526,  3266.20094705,  9164.99548722,  3974.82130357,\n",
       "        9765.44433309,  9520.35837197, 10312.10532093,  3315.96046063,\n",
       "        3314.79032116,  5395.07304115, 10179.78439491, 10469.22294612,\n",
       "        4702.39512033,  3357.87308053,  5318.99220029, 10231.4879815 ,\n",
       "        4380.04981777,  3150.0734605 ,  8244.46956503])"
      ]
     },
     "execution_count": 19,
     "metadata": {},
     "output_type": "execute_result"
    }
   ],
   "source": [
    "y_pred"
   ]
  },
  {
   "cell_type": "code",
   "execution_count": 20,
   "id": "ebfe6691",
   "metadata": {},
   "outputs": [
    {
     "data": {
      "text/plain": [
       "72      8809.0\n",
       "107    11226.0\n",
       "66      7869.0\n",
       "84      9773.0\n",
       "0          1.0\n",
       "48      4655.0\n",
       "1          4.0\n",
       "41      3200.0\n",
       "11        56.0\n",
       "35      2014.0\n",
       "76      9171.0\n",
       "44      3576.0\n",
       "86      9942.0\n",
       "80      9605.0\n",
       "104    10980.0\n",
       "2          4.0\n",
       "5          8.0\n",
       "54      5371.0\n",
       "127    13429.0\n",
       "116    12414.0\n",
       "47      4575.0\n",
       "37      2323.0\n",
       "53      5288.0\n",
       "100    10775.0\n",
       "46      4162.0\n",
       "28      1116.0\n",
       "68      8194.0\n",
       "Name: DE infections, dtype: float64"
      ]
     },
     "execution_count": 20,
     "metadata": {},
     "output_type": "execute_result"
    }
   ],
   "source": [
    "y_test"
   ]
  },
  {
   "cell_type": "code",
   "execution_count": 21,
   "id": "dc59883b",
   "metadata": {},
   "outputs": [],
   "source": [
    "finalAccuracyCovidCasesDe = (r2_score(y_test.values, y_pred) * 100).round()"
   ]
  },
  {
   "cell_type": "code",
   "execution_count": 22,
   "id": "fea61a9d",
   "metadata": {},
   "outputs": [
    {
     "name": "stdout",
     "output_type": "stream",
     "text": [
      "The accuracy of training an SVR on the Delaware days and the covid cases throughout the state is 84.0%\n"
     ]
    }
   ],
   "source": [
    "print(f\"The accuracy of training an SVR on the Delaware days and the covid cases throughout the state is {finalAccuracyCovidCasesDe}%\")"
   ]
  },
  {
   "cell_type": "markdown",
   "id": "8b9c7598",
   "metadata": {},
   "source": [
    "Evaluating it with r2 gives it an accuracy of 84%, as it fitted the data pretty well."
   ]
  },
  {
   "cell_type": "markdown",
   "id": "53477d80",
   "metadata": {},
   "source": [
    "Let train other machine learning algorithms (regression) on this dataset"
   ]
  },
  {
   "cell_type": "code",
   "execution_count": 23,
   "id": "f65915cb",
   "metadata": {},
   "outputs": [],
   "source": [
    "covidIncreaseDelaware= covidData.drop(labels=[\"MD Day #\", \"DE Percent Increase\", \"MD infections\", \"MD percent increase infections\", \"MD increase in infections\", \"Califronia Day #\", \"CA infections\", \"CA increase in infections\", \"CA percent increase\", \"Texas Day #\", \"Infections\", \"Increase in infections\", \"Percent Increase\"], axis=1)"
   ]
  },
  {
   "cell_type": "code",
   "execution_count": 24,
   "id": "8a41532f",
   "metadata": {},
   "outputs": [],
   "source": [
    "covidIncreaseDelaware = covidIncreaseDelaware.dropna()"
   ]
  },
  {
   "cell_type": "code",
   "execution_count": 25,
   "id": "a60b9606",
   "metadata": {},
   "outputs": [
    {
     "data": {
      "text/html": [
       "<div>\n",
       "<style scoped>\n",
       "    .dataframe tbody tr th:only-of-type {\n",
       "        vertical-align: middle;\n",
       "    }\n",
       "\n",
       "    .dataframe tbody tr th {\n",
       "        vertical-align: top;\n",
       "    }\n",
       "\n",
       "    .dataframe thead th {\n",
       "        text-align: right;\n",
       "    }\n",
       "</style>\n",
       "<table border=\"1\" class=\"dataframe\">\n",
       "  <thead>\n",
       "    <tr style=\"text-align: right;\">\n",
       "      <th></th>\n",
       "      <th>Delaware Day #</th>\n",
       "      <th>DE infections</th>\n",
       "      <th>DE increase in infections</th>\n",
       "    </tr>\n",
       "  </thead>\n",
       "  <tbody>\n",
       "    <tr>\n",
       "      <th>0</th>\n",
       "      <td>1.0</td>\n",
       "      <td>1.0</td>\n",
       "      <td>0.0</td>\n",
       "    </tr>\n",
       "    <tr>\n",
       "      <th>1</th>\n",
       "      <td>2.0</td>\n",
       "      <td>4.0</td>\n",
       "      <td>3.0</td>\n",
       "    </tr>\n",
       "    <tr>\n",
       "      <th>2</th>\n",
       "      <td>3.0</td>\n",
       "      <td>4.0</td>\n",
       "      <td>0.0</td>\n",
       "    </tr>\n",
       "    <tr>\n",
       "      <th>3</th>\n",
       "      <td>4.0</td>\n",
       "      <td>6.0</td>\n",
       "      <td>2.0</td>\n",
       "    </tr>\n",
       "    <tr>\n",
       "      <th>4</th>\n",
       "      <td>5.0</td>\n",
       "      <td>7.0</td>\n",
       "      <td>1.0</td>\n",
       "    </tr>\n",
       "    <tr>\n",
       "      <th>...</th>\n",
       "      <td>...</td>\n",
       "      <td>...</td>\n",
       "      <td>...</td>\n",
       "    </tr>\n",
       "    <tr>\n",
       "      <th>128</th>\n",
       "      <td>129.0</td>\n",
       "      <td>13624.0</td>\n",
       "      <td>195.0</td>\n",
       "    </tr>\n",
       "    <tr>\n",
       "      <th>129</th>\n",
       "      <td>130.0</td>\n",
       "      <td>13746.0</td>\n",
       "      <td>122.0</td>\n",
       "    </tr>\n",
       "    <tr>\n",
       "      <th>130</th>\n",
       "      <td>131.0</td>\n",
       "      <td>13792.0</td>\n",
       "      <td>46.0</td>\n",
       "    </tr>\n",
       "    <tr>\n",
       "      <th>131</th>\n",
       "      <td>132.0</td>\n",
       "      <td>13924.0</td>\n",
       "      <td>132.0</td>\n",
       "    </tr>\n",
       "    <tr>\n",
       "      <th>132</th>\n",
       "      <td>133.0</td>\n",
       "      <td>14202.0</td>\n",
       "      <td>278.0</td>\n",
       "    </tr>\n",
       "  </tbody>\n",
       "</table>\n",
       "<p>133 rows × 3 columns</p>\n",
       "</div>"
      ],
      "text/plain": [
       "     Delaware Day #  DE infections  DE increase in infections \n",
       "0               1.0            1.0                         0.0\n",
       "1               2.0            4.0                         3.0\n",
       "2               3.0            4.0                         0.0\n",
       "3               4.0            6.0                         2.0\n",
       "4               5.0            7.0                         1.0\n",
       "..              ...            ...                         ...\n",
       "128           129.0        13624.0                       195.0\n",
       "129           130.0        13746.0                       122.0\n",
       "130           131.0        13792.0                        46.0\n",
       "131           132.0        13924.0                       132.0\n",
       "132           133.0        14202.0                       278.0\n",
       "\n",
       "[133 rows x 3 columns]"
      ]
     },
     "execution_count": 25,
     "metadata": {},
     "output_type": "execute_result"
    }
   ],
   "source": [
    "covidIncreaseDelaware"
   ]
  },
  {
   "cell_type": "code",
   "execution_count": 26,
   "id": "9d4f0a6d",
   "metadata": {},
   "outputs": [],
   "source": [
    "scaled_df = StandardScaler().fit_transform(covidIncreaseDelaware)"
   ]
  },
  {
   "cell_type": "code",
   "execution_count": 27,
   "id": "e8b0dd3e",
   "metadata": {},
   "outputs": [],
   "source": [
    "sse_DEInfections = []"
   ]
  },
  {
   "cell_type": "code",
   "execution_count": 28,
   "id": "da4e9462",
   "metadata": {},
   "outputs": [],
   "source": [
    "for i in range(1, 134):\n",
    "    kMeansDeInfections = KMeans(n_clusters=i, init = \"random\", n_init=10, random_state=1)\n",
    "    kMeansDeInfections.fit(scaled_df)\n",
    "    sse_DEInfections.append(kMeansDeInfections.inertia_)"
   ]
  },
  {
   "cell_type": "code",
   "execution_count": 29,
   "id": "4f36e37f",
   "metadata": {},
   "outputs": [
    {
     "data": {
      "text/plain": [
       "Text(0, 0.5, 'SSE')"
      ]
     },
     "execution_count": 29,
     "metadata": {},
     "output_type": "execute_result"
    },
    {
     "data": {
      "image/png": "[encoded data removed]",
      "text/plain": [
       "<Figure size 640x480 with 1 Axes>"
      ]
     },
     "metadata": {},
     "output_type": "display_data"
    }
   ],
   "source": [
    "plt.plot(range(1, 134), sse_DEInfections, marker=\"o\")\n",
    "plt.xlabel(\"Number of Clusters\")\n",
    "plt.ylabel(\"SSE\")"
   ]
  },
  {
   "cell_type": "code",
   "execution_count": 30,
   "id": "1554ec20",
   "metadata": {},
   "outputs": [],
   "source": [
    "kmeans = KMeans(init=\"random\", n_clusters=6, n_init=10, random_state=1)"
   ]
  },
  {
   "cell_type": "code",
   "execution_count": 31,
   "id": "a0e828b3",
   "metadata": {},
   "outputs": [
    {
     "data": {
      "text/html": [
       "<style>#sk-container-id-2 {color: black;background-color: white;}#sk-container-id-2 pre{padding: 0;}#sk-container-id-2 div.sk-toggleable {background-color: white;}#sk-container-id-2 label.sk-toggleable__label {cursor: pointer;display: block;width: 100%;margin-bottom: 0;padding: 0.3em;box-sizing: border-box;text-align: center;}#sk-container-id-2 label.sk-toggleable__label-arrow:before {content: \"▸\";float: left;margin-right: 0.25em;color: #696969;}#sk-container-id-2 label.sk-toggleable__label-arrow:hover:before {color: black;}#sk-container-id-2 div.sk-estimator:hover label.sk-toggleable__label-arrow:before {color: black;}#sk-container-id-2 div.sk-toggleable__content {max-height: 0;max-width: 0;overflow: hidden;text-align: left;background-color: #f0f8ff;}#sk-container-id-2 div.sk-toggleable__content pre {margin: 0.2em;color: black;border-radius: 0.25em;background-color: #f0f8ff;}#sk-container-id-2 input.sk-toggleable__control:checked~div.sk-toggleable__content {max-height: 200px;max-width: 100%;overflow: auto;}#sk-container-id-2 input.sk-toggleable__control:checked~label.sk-toggleable__label-arrow:before {content: \"▾\";}#sk-container-id-2 div.sk-estimator input.sk-toggleable__control:checked~label.sk-toggleable__label {background-color: #d4ebff;}#sk-container-id-2 div.sk-label input.sk-toggleable__control:checked~label.sk-toggleable__label {background-color: #d4ebff;}#sk-container-id-2 input.sk-hidden--visually {border: 0;clip: rect(1px 1px 1px 1px);clip: rect(1px, 1px, 1px, 1px);height: 1px;margin: -1px;overflow: hidden;padding: 0;position: absolute;width: 1px;}#sk-container-id-2 div.sk-estimator {font-family: monospace;background-color: #f0f8ff;border: 1px dotted black;border-radius: 0.25em;box-sizing: border-box;margin-bottom: 0.5em;}#sk-container-id-2 div.sk-estimator:hover {background-color: #d4ebff;}#sk-container-id-2 div.sk-parallel-item::after {content: \"\";width: 100%;border-bottom: 1px solid gray;flex-grow: 1;}#sk-container-id-2 div.sk-label:hover label.sk-toggleable__label {background-color: #d4ebff;}#sk-container-id-2 div.sk-serial::before {content: \"\";position: absolute;border-left: 1px solid gray;box-sizing: border-box;top: 0;bottom: 0;left: 50%;z-index: 0;}#sk-container-id-2 div.sk-serial {display: flex;flex-direction: column;align-items: center;background-color: white;padding-right: 0.2em;padding-left: 0.2em;position: relative;}#sk-container-id-2 div.sk-item {position: relative;z-index: 1;}#sk-container-id-2 div.sk-parallel {display: flex;align-items: stretch;justify-content: center;background-color: white;position: relative;}#sk-container-id-2 div.sk-item::before, #sk-container-id-2 div.sk-parallel-item::before {content: \"\";position: absolute;border-left: 1px solid gray;box-sizing: border-box;top: 0;bottom: 0;left: 50%;z-index: -1;}#sk-container-id-2 div.sk-parallel-item {display: flex;flex-direction: column;z-index: 1;position: relative;background-color: white;}#sk-container-id-2 div.sk-parallel-item:first-child::after {align-self: flex-end;width: 50%;}#sk-container-id-2 div.sk-parallel-item:last-child::after {align-self: flex-start;width: 50%;}#sk-container-id-2 div.sk-parallel-item:only-child::after {width: 0;}#sk-container-id-2 div.sk-dashed-wrapped {border: 1px dashed gray;margin: 0 0.4em 0.5em 0.4em;box-sizing: border-box;padding-bottom: 0.4em;background-color: white;}#sk-container-id-2 div.sk-label label {font-family: monospace;font-weight: bold;display: inline-block;line-height: 1.2em;}#sk-container-id-2 div.sk-label-container {text-align: center;}#sk-container-id-2 div.sk-container {/* jupyter's `normalize.less` sets `[hidden] { display: none; }` but bootstrap.min.css set `[hidden] { display: none !important; }` so we also need the `!important` here to be able to override the default hidden behavior on the sphinx rendered scikit-learn.org. See: https://github.com/scikit-learn/scikit-learn/issues/21755 */display: inline-block !important;position: relative;}#sk-container-id-2 div.sk-text-repr-fallback {display: none;}</style><div id=\"sk-container-id-2\" class=\"sk-top-container\"><div class=\"sk-text-repr-fallback\"><pre>KMeans(init=&#x27;random&#x27;, n_clusters=6, n_init=10, random_state=1)</pre><b>In a Jupyter environment, please rerun this cell to show the HTML representation or trust the notebook. <br />On GitHub, the HTML representation is unable to render, please try loading this page with nbviewer.org.</b></div><div class=\"sk-container\" hidden><div class=\"sk-item\"><div class=\"sk-estimator sk-toggleable\"><input class=\"sk-toggleable__control sk-hidden--visually\" id=\"sk-estimator-id-4\" type=\"checkbox\" checked><label for=\"sk-estimator-id-4\" class=\"sk-toggleable__label sk-toggleable__label-arrow\">KMeans</label><div class=\"sk-toggleable__content\"><pre>KMeans(init=&#x27;random&#x27;, n_clusters=6, n_init=10, random_state=1)</pre></div></div></div></div></div>"
      ],
      "text/plain": [
       "KMeans(init='random', n_clusters=6, n_init=10, random_state=1)"
      ]
     },
     "execution_count": 31,
     "metadata": {},
     "output_type": "execute_result"
    }
   ],
   "source": [
    "kmeans.fit(scaled_df)"
   ]
  },
  {
   "cell_type": "code",
   "execution_count": 32,
   "id": "34165820",
   "metadata": {},
   "outputs": [
    {
     "data": {
      "text/plain": [
       "array([4, 4, 4, 4, 4, 4, 4, 4, 4, 4, 4, 4, 4, 4, 4, 4, 4, 4, 4, 4, 4, 4,\n",
       "       4, 4, 3, 3, 3, 3, 3, 3, 3, 3, 3, 3, 3, 3, 3, 5, 3, 3, 3, 5, 3, 3,\n",
       "       3, 5, 3, 5, 3, 3, 2, 2, 2, 2, 2, 5, 5, 2, 2, 0, 2, 2, 2, 5, 2, 2,\n",
       "       5, 2, 2, 2, 2, 2, 2, 2, 0, 0, 0, 0, 2, 0, 0, 0, 0, 0, 0, 0, 0, 0,\n",
       "       0, 0, 0, 0, 0, 0, 0, 0, 0, 0, 0, 0, 0, 0, 0, 0, 0, 0, 0, 1, 1, 1,\n",
       "       0, 1, 1, 1, 1, 1, 1, 0, 1, 1, 1, 1, 1, 1, 1, 1, 1, 1, 1, 1, 1, 1,\n",
       "       1])"
      ]
     },
     "execution_count": 32,
     "metadata": {},
     "output_type": "execute_result"
    }
   ],
   "source": [
    "kmeans.labels_"
   ]
  },
  {
   "cell_type": "code",
   "execution_count": 33,
   "id": "1e033376",
   "metadata": {},
   "outputs": [],
   "source": [
    "covidIncreaseDelaware[\"cluster\"] = kmeans.labels_"
   ]
  },
  {
   "cell_type": "code",
   "execution_count": 34,
   "id": "297263b3",
   "metadata": {},
   "outputs": [
    {
     "data": {
      "text/html": [
       "<div>\n",
       "<style scoped>\n",
       "    .dataframe tbody tr th:only-of-type {\n",
       "        vertical-align: middle;\n",
       "    }\n",
       "\n",
       "    .dataframe tbody tr th {\n",
       "        vertical-align: top;\n",
       "    }\n",
       "\n",
       "    .dataframe thead th {\n",
       "        text-align: right;\n",
       "    }\n",
       "</style>\n",
       "<table border=\"1\" class=\"dataframe\">\n",
       "  <thead>\n",
       "    <tr style=\"text-align: right;\">\n",
       "      <th></th>\n",
       "      <th>Delaware Day #</th>\n",
       "      <th>DE infections</th>\n",
       "      <th>DE increase in infections</th>\n",
       "      <th>cluster</th>\n",
       "    </tr>\n",
       "  </thead>\n",
       "  <tbody>\n",
       "    <tr>\n",
       "      <th>0</th>\n",
       "      <td>1.0</td>\n",
       "      <td>1.0</td>\n",
       "      <td>0.0</td>\n",
       "      <td>4</td>\n",
       "    </tr>\n",
       "    <tr>\n",
       "      <th>1</th>\n",
       "      <td>2.0</td>\n",
       "      <td>4.0</td>\n",
       "      <td>3.0</td>\n",
       "      <td>4</td>\n",
       "    </tr>\n",
       "    <tr>\n",
       "      <th>2</th>\n",
       "      <td>3.0</td>\n",
       "      <td>4.0</td>\n",
       "      <td>0.0</td>\n",
       "      <td>4</td>\n",
       "    </tr>\n",
       "    <tr>\n",
       "      <th>3</th>\n",
       "      <td>4.0</td>\n",
       "      <td>6.0</td>\n",
       "      <td>2.0</td>\n",
       "      <td>4</td>\n",
       "    </tr>\n",
       "    <tr>\n",
       "      <th>4</th>\n",
       "      <td>5.0</td>\n",
       "      <td>7.0</td>\n",
       "      <td>1.0</td>\n",
       "      <td>4</td>\n",
       "    </tr>\n",
       "    <tr>\n",
       "      <th>...</th>\n",
       "      <td>...</td>\n",
       "      <td>...</td>\n",
       "      <td>...</td>\n",
       "      <td>...</td>\n",
       "    </tr>\n",
       "    <tr>\n",
       "      <th>128</th>\n",
       "      <td>129.0</td>\n",
       "      <td>13624.0</td>\n",
       "      <td>195.0</td>\n",
       "      <td>1</td>\n",
       "    </tr>\n",
       "    <tr>\n",
       "      <th>129</th>\n",
       "      <td>130.0</td>\n",
       "      <td>13746.0</td>\n",
       "      <td>122.0</td>\n",
       "      <td>1</td>\n",
       "    </tr>\n",
       "    <tr>\n",
       "      <th>130</th>\n",
       "      <td>131.0</td>\n",
       "      <td>13792.0</td>\n",
       "      <td>46.0</td>\n",
       "      <td>1</td>\n",
       "    </tr>\n",
       "    <tr>\n",
       "      <th>131</th>\n",
       "      <td>132.0</td>\n",
       "      <td>13924.0</td>\n",
       "      <td>132.0</td>\n",
       "      <td>1</td>\n",
       "    </tr>\n",
       "    <tr>\n",
       "      <th>132</th>\n",
       "      <td>133.0</td>\n",
       "      <td>14202.0</td>\n",
       "      <td>278.0</td>\n",
       "      <td>1</td>\n",
       "    </tr>\n",
       "  </tbody>\n",
       "</table>\n",
       "<p>133 rows × 4 columns</p>\n",
       "</div>"
      ],
      "text/plain": [
       "     Delaware Day #  DE infections  DE increase in infections   cluster\n",
       "0               1.0            1.0                         0.0        4\n",
       "1               2.0            4.0                         3.0        4\n",
       "2               3.0            4.0                         0.0        4\n",
       "3               4.0            6.0                         2.0        4\n",
       "4               5.0            7.0                         1.0        4\n",
       "..              ...            ...                         ...      ...\n",
       "128           129.0        13624.0                       195.0        1\n",
       "129           130.0        13746.0                       122.0        1\n",
       "130           131.0        13792.0                        46.0        1\n",
       "131           132.0        13924.0                       132.0        1\n",
       "132           133.0        14202.0                       278.0        1\n",
       "\n",
       "[133 rows x 4 columns]"
      ]
     },
     "execution_count": 34,
     "metadata": {},
     "output_type": "execute_result"
    }
   ],
   "source": [
    "covidIncreaseDelaware"
   ]
  },
  {
   "cell_type": "code",
   "execution_count": 35,
   "id": "27e511c1",
   "metadata": {},
   "outputs": [
    {
     "data": {
      "text/plain": [
       "Text(0.5, 1.0, 'K-Means and Delaware Covid Infections with the increase')"
      ]
     },
     "execution_count": 35,
     "metadata": {},
     "output_type": "execute_result"
    },
    {
     "data": {
      "image/png": "[encoded data removed]",
      "text/plain": [
       "<Figure size 640x480 with 1 Axes>"
      ]
     },
     "metadata": {},
     "output_type": "display_data"
    }
   ],
   "source": [
    "plt.scatter(x=covidIncreaseDelaware[\"DE increase in infections \"], y=covidIncreaseDelaware[\"DE infections\"], c=covidIncreaseDelaware[\"cluster\"])\n",
    "plt.xlabel(\"Current Increase of infections\")\n",
    "plt.ylabel(\"De Infections\")\n",
    "plt.title(\"K-Means and Delaware Covid Infections with the increase\")"
   ]
  },
  {
   "cell_type": "code",
   "execution_count": 38,
   "id": "fa71958d",
   "metadata": {},
   "outputs": [],
   "source": [
    "covidPercentIncreaseDelaware = covidData.drop(labels=[\"MD Day #\", \"DE increase in infections \", \"MD infections\", \"MD percent increase infections\", \"MD increase in infections\", \"Califronia Day #\", \"CA infections\", \"CA increase in infections\", \"CA percent increase\", \"Texas Day #\", \"Infections\", \"Increase in infections\", \"Percent Increase\"], axis=1)"
   ]
  },
  {
   "cell_type": "code",
   "execution_count": 39,
   "id": "eac08640",
   "metadata": {},
   "outputs": [
    {
     "data": {
      "text/html": [
       "<div>\n",
       "<style scoped>\n",
       "    .dataframe tbody tr th:only-of-type {\n",
       "        vertical-align: middle;\n",
       "    }\n",
       "\n",
       "    .dataframe tbody tr th {\n",
       "        vertical-align: top;\n",
       "    }\n",
       "\n",
       "    .dataframe thead th {\n",
       "        text-align: right;\n",
       "    }\n",
       "</style>\n",
       "<table border=\"1\" class=\"dataframe\">\n",
       "  <thead>\n",
       "    <tr style=\"text-align: right;\">\n",
       "      <th></th>\n",
       "      <th>Delaware Day #</th>\n",
       "      <th>DE infections</th>\n",
       "      <th>DE Percent Increase</th>\n",
       "    </tr>\n",
       "  </thead>\n",
       "  <tbody>\n",
       "    <tr>\n",
       "      <th>0</th>\n",
       "      <td>1.0</td>\n",
       "      <td>1.0</td>\n",
       "      <td>0.0</td>\n",
       "    </tr>\n",
       "    <tr>\n",
       "      <th>1</th>\n",
       "      <td>2.0</td>\n",
       "      <td>4.0</td>\n",
       "      <td>300.0</td>\n",
       "    </tr>\n",
       "    <tr>\n",
       "      <th>2</th>\n",
       "      <td>3.0</td>\n",
       "      <td>4.0</td>\n",
       "      <td>0.0</td>\n",
       "    </tr>\n",
       "    <tr>\n",
       "      <th>3</th>\n",
       "      <td>4.0</td>\n",
       "      <td>6.0</td>\n",
       "      <td>50.0</td>\n",
       "    </tr>\n",
       "    <tr>\n",
       "      <th>4</th>\n",
       "      <td>5.0</td>\n",
       "      <td>7.0</td>\n",
       "      <td>17.0</td>\n",
       "    </tr>\n",
       "    <tr>\n",
       "      <th>...</th>\n",
       "      <td>...</td>\n",
       "      <td>...</td>\n",
       "      <td>...</td>\n",
       "    </tr>\n",
       "    <tr>\n",
       "      <th>128</th>\n",
       "      <td>129.0</td>\n",
       "      <td>13624.0</td>\n",
       "      <td>1.0</td>\n",
       "    </tr>\n",
       "    <tr>\n",
       "      <th>129</th>\n",
       "      <td>130.0</td>\n",
       "      <td>13746.0</td>\n",
       "      <td>1.0</td>\n",
       "    </tr>\n",
       "    <tr>\n",
       "      <th>130</th>\n",
       "      <td>131.0</td>\n",
       "      <td>13792.0</td>\n",
       "      <td>0.0</td>\n",
       "    </tr>\n",
       "    <tr>\n",
       "      <th>131</th>\n",
       "      <td>132.0</td>\n",
       "      <td>13924.0</td>\n",
       "      <td>1.0</td>\n",
       "    </tr>\n",
       "    <tr>\n",
       "      <th>132</th>\n",
       "      <td>133.0</td>\n",
       "      <td>14202.0</td>\n",
       "      <td>2.0</td>\n",
       "    </tr>\n",
       "  </tbody>\n",
       "</table>\n",
       "<p>133 rows × 3 columns</p>\n",
       "</div>"
      ],
      "text/plain": [
       "     Delaware Day #  DE infections  DE Percent Increase\n",
       "0               1.0            1.0                  0.0\n",
       "1               2.0            4.0                300.0\n",
       "2               3.0            4.0                  0.0\n",
       "3               4.0            6.0                 50.0\n",
       "4               5.0            7.0                 17.0\n",
       "..              ...            ...                  ...\n",
       "128           129.0        13624.0                  1.0\n",
       "129           130.0        13746.0                  1.0\n",
       "130           131.0        13792.0                  0.0\n",
       "131           132.0        13924.0                  1.0\n",
       "132           133.0        14202.0                  2.0\n",
       "\n",
       "[133 rows x 3 columns]"
      ]
     },
     "execution_count": 39,
     "metadata": {},
     "output_type": "execute_result"
    }
   ],
   "source": [
    "covidPercentIncreaseDelaware"
   ]
  },
  {
   "cell_type": "code",
   "execution_count": 41,
   "id": "5ced8ed3",
   "metadata": {},
   "outputs": [],
   "source": [
    "scaled_percentage_df = StandardScaler().fit_transform(covidIncreaseDelaware)"
   ]
  },
  {
   "cell_type": "code",
   "execution_count": 42,
   "id": "0b3ae1ec",
   "metadata": {},
   "outputs": [],
   "source": [
    "sse_DEPercentInfections = []"
   ]
  },
  {
   "cell_type": "code",
   "execution_count": 43,
   "id": "8d94700b",
   "metadata": {},
   "outputs": [],
   "source": [
    "for i in range(1, 134):\n",
    "    kMeansDePercentInfections = KMeans(n_clusters=i, init = \"random\", n_init=10, random_state=1)\n",
    "    kMeansDePercentInfections.fit(scaled_df)\n",
    "    sse_DEPercentInfections.append(kMeansDeInfections.inertia_)"
   ]
  },
  {
   "cell_type": "code",
   "execution_count": null,
   "id": "0a5f90ec",
   "metadata": {},
   "outputs": [],
   "source": []
  }
 ],
 "metadata": {
  "kernelspec": {
   "display_name": "Python 3 (ipykernel)",
   "language": "python",
   "name": "python3"
  },
  "language_info": {
   "codemirror_mode": {
    "name": "ipython",
    "version": 3
   },
   "file_extension": ".py",
   "mimetype": "text/x-python",
   "name": "python",
   "nbconvert_exporter": "python",
   "pygments_lexer": "ipython3",
   "version": "3.11.2"
  }
 },
 "nbformat": 4,
 "nbformat_minor": 5
}
